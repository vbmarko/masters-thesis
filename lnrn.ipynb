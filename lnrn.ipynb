
import numpy as np
import networkx as nx
import matplotlib.pyplot as plt
import random



def hierarchy_pos(G, root=None, width=1., vert_gap = 0.2, vert_loc = 0, xcenter = 0.5):

    '''
    From Joel's answer at https://stackoverflow.com/a/29597209/2966723.  
    Licensed under Creative Commons Attribution-Share Alike 
    
    If the graph is a tree this will return the positions to plot this in a 
    hierarchical layout.
    
    G: the graph (must be a tree)
    
    root: the root node of current branch 
    - if the tree is directed and this is not given, 
      the root will be found and used
    - if the tree is directed and this is given, then 
      the positions will be just for the descendants of this node.
    - if the tree is undirected and not given, 
      then a random choice will be used.
    
    width: horizontal space allocated for this branch - avoids overlap with other branches
    
    vert_gap: gap between levels of hierarchy
    
    vert_loc: vertical location of root
    
    xcenter: horizontal location of root
    '''
    if not nx.is_tree(G):
        raise TypeError('cannot use hierarchy_pos on a graph that is not a tree')

    if root is None:
        if isinstance(G, nx.DiGraph):
            root = next(iter(nx.topological_sort(G)))  #allows back compatibility with nx version 1.11
        else:
            root = random.choice(list(G.nodes))

    def _hierarchy_pos(G, root, width=1., vert_gap = 0.2, vert_loc = 0, xcenter = 0.5, pos = None, parent = None):
        '''
        see hierarchy_pos docstring for most arguments

        pos: a dict saying where all nodes go if they have been assigned
        parent: parent of this branch. - only affects it if non-directed

        '''
    
        if pos is None:
            pos = {root:(xcenter,vert_loc)}
        else:
            pos[root] = (xcenter, vert_loc)
        children = list(G.neighbors(root))
        if not isinstance(G, nx.DiGraph) and parent is not None:
            children.remove(parent)  
        if len(children)!=0:
            dx = width/len(children) 
            nextx = xcenter - width/2 - dx/2
            for child in children:
                nextx += dx
                pos = _hierarchy_pos(G,child, width = dx, vert_gap = vert_gap, 
                                    vert_loc = vert_loc-vert_gap, xcenter=nextx,
                                    pos=pos, parent = root)
        return pos

            
    return _hierarchy_pos(G, root, width, vert_gap, vert_loc, xcenter)



G_bar = np.genfromtxt("G.csv",delimiter=",")
G_bar.shape
c = np.genfromtxt("C.csv",delimiter=",")
C = np.zeros_like(G_bar)
C[np.diag_indices_from(C)] = c**(-0.5)
G = C@G_bar@C
D = np.zeros_like(G)
#G = G_bar
D[np.diag_indices_from(D)] = G.sum(0) - G[np.diag_indices_from(G)]
L = D - G

m = np.max(abs(G))

imG = G
imG[imG == 0] = np.nan
plt.imshow(imG)
plt.show()
Eigen = np.linalg.eig(L)
evals = Eigen.eigenvalues
evec = Eigen.eigenvectors






G = G_bar
G[np.diag_indices_from(G)] = 0
sid = np.genfromtxt("sid.csv",delimiter=",")


labs = {i:sid[i] for i in range(len(sid))}



sA = np.genfromtxt("sA.csv",delimiter=",")
sA[np.diag_indices_from(sA)] = 0
s_nrn = nx.from_numpy_array(sA)
nx.number_connected_components(s_nrn)
list(nx.simple_cycles(s_nrn))
nx.is_tree(s_nrn)
pos = hierarchy_pos(s_nrn,root=0)
#pos = nx.kamada_kawai_layout(nrn)
nx.draw_networkx_edges(s_nrn,pos=pos)
nx.draw_networkx_nodes(s_nrn,pos=pos,node_size=50)
#nx.draw_networkx_labels(G,pos,labs)
plt.show()


G = np.genfromtxt("G.csv",delimiter=",")
sid = np.genfromtxt("sid.csv",delimiter=",")
A = G
A[np.diag_indices_from(A)] = 0
A[A!=0] = 1

d = G.sum(0)
D = np.zeros_like(G)
D[np.diag_indices_from(D)] = d
WA = G
WA[np.diag_indices_from(WA)] = 0 
Lw = D -WA
Eigen = np.linalg.eigh(Lw)
evals = Eigen.eigenvalues
evec = Eigen.eigenvectors
sevec = np.sign(evec)
sevec_labs = np.full(sevec.shape," ")
sevec_labs[sevec == 1] = "blue"
sevec_labs[sevec == 1] = "red"


nrn = nx.from_numpy_array(A)
nx.number_connected_components(nrn)
cyc = list(nx.simple_cycles(nrn))
nx.is_tree(nrn)
pos = hierarchy_pos(nrn,root=0)
#pos = nx.spring_layout(nrn)

nx.draw_networkx_edges(nrn,pos=pos); nx.draw_networkx_nodes(nrn,pos=pos,node_size=10,node_color=sevec[:,1])
#nx.draw_networkx_labels(G,pos,labs)
plt.show()
labs = {i:sid[i] for i in range(len(sid))}
cyc_labs = [[labs[k] for k in c] for c in cyc]

d = A.sum(0)
D = np.zeros_like(A)
D[np.diag_indices_from(D)] = d

L = D -A
Eigen = np.linalg.eigh(L)
evals = Eigen.eigenvalues
evec = Eigen.eigenvectors
sevec = np.sign(evec)
sevec_labs = np.full(sevec.shape," ")
sevec_labs[sevec == 1] = "blue"
sevec_labs[sevec == 1] = "red"


nrn = nx.from_numpy_array(A)
nx.number_connected_components(nrn)
cyc = list(nx.simple_cycles(nrn))
nx.is_tree(nrn)
pos = hierarchy_pos(nrn,root=0)
#pos = nx.spring_layout(nrn)
nx.draw_networkx_edges(nrn,pos=pos)
nx.draw_networkx_nodes(nrn,pos=pos,node_size=10,node_color=sevec[:,0])
#nx.draw_networkx_labels(G,pos,labs)
plt.show()
labs = {i:sid[i] for i in range(len(sid))}
cyc_labs = [[labs[k] for k in c] for c in cyc]




